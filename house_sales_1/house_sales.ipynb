{
 "cells": [
  {
   "cell_type": "markdown",
   "id": "e33eda06-7d7d-445e-8cd0-60b4d4b13afb",
   "metadata": {},
   "source": [
    "# Practical Exam: House sales\n",
    "\n",
    "RealAgents is a real estate company that focuses on selling houses.\n",
    "\n",
    "RealAgents sells a variety of types of house in one metropolitan area.\n",
    "\n",
    "Some houses sell slowly and sometimes require lowering the price in order to find a buyer.\n",
    "\n",
    "In order to stay competitive, RealAgents would like to optimize the listing prices of the houses it is trying to sell.\n",
    "\n",
    "They want to do this by predicting the sale price of a house given its characteristics.\n",
    "\n",
    "If they can predict the sale price in advance, they can decrease the time to sale.\n",
    "\n",
    "\n",
    "## Data\n",
    "\n",
    "The dataset contains records of previous houses sold in the area.\n",
    "\n",
    "| Column Name | Criteria                                                |\n",
    "|-------------|---------------------------------------------------------|\n",
    "| house_id    | Nominal. </br> Unique identifier for houses. </br>Missing values not possible. |\n",
    "| city        | Nominal. </br>The city in which the house is located. One of 'Silvertown', 'Riverford', 'Teasdale' and 'Poppleton'. </br>Replace missing values with \"Unknown\". |\n",
    "| sale_price  | Discrete. </br>The sale price of the house in whole dollars. Values can be any positive number greater than or equal to zero.</br>Remove missing entries. |\n",
    "| sale_date   | Discrete. </br>The date of the last sale of the house. </br>Replace missing values with 2023-01-01. |\n",
    "| months_listed  | Continuous. </br>The number of months the house was listed on the market prior to its last sale, rounded to one decimal place. </br>Replace missing values with mean number of months listed, to one decimal place. |\n",
    "| bedrooms    | Discrete. </br>The number of bedrooms in the house. Any positive values greater than or equal to zero. </br>Replace missing values with the mean number of bedrooms, rounded to the nearest integer. |\n",
    "| house_type   | Ordinal. </br>One of \"Terraced\" (two shared walls), \"Semi-detached\" (one shared wall), or \"Detached\" (no shared walls). </br>Replace missing values with the most common house type. |\n",
    "| area      | Continuous. </br>The area of the house in square meters, rounded to one decimal place. </br>Replace missing values with the mean, to one decimal place. |\n"
   ]
  },
  {
   "cell_type": "markdown",
   "id": "ce597564-6bd3-4f54-830b-d5bac083c04a",
   "metadata": {},
   "source": [
    "# Task 1\n",
    "\n",
    "The team at RealAgents knows that the city that a property is located in makes a difference to the sale price. \n",
    "\n",
    "Unfortuntately they believe that this isn't always recorded in the data. \n",
    "\n",
    "Calculate the number of missing values of the `city`. \n",
    "\n",
    " - You should use the data in the file \"house_sales.csv\". \n",
    "\n",
    " - Your output should be an object `missing_city`, that contains the number of missing values in this column. "
   ]
  },
  {
   "cell_type": "code",
   "execution_count": 1,
   "id": "b2cb73bf-bb81-4664-b3eb-c35f6914a652",
   "metadata": {
    "executionCancelledAt": null,
    "executionTime": 4062,
    "lastExecutedAt": 1751249052474,
    "lastExecutedByKernel": "f2d55cbb-fd36-4d08-a675-835f18c9e923",
    "lastScheduledRunId": null,
    "lastSuccessfullyExecutedCode": "# Use this cell to write your code for Task 1\n# import libraries\nimport pandas as pd\nimport numpy as np\nfrom sklearn.linear_model import LinearRegression\nfrom sklearn.preprocessing import OneHotEncoder\nfrom sklearn.compose import ColumnTransformer\nfrom sklearn.pipeline import Pipeline\nfrom sklearn.impute import SimpleImputer\n\n# Load the dataset\ndf = pd.read_csv(\"house_sales.csv\")\ndf.head()\n\n# Identify and replace missing values with 'Unknown'\nmissing_city = (df['city'] == '--').sum()\nprint(f\"The total number of missing cities represented by '--' is {missing_city}\")",
    "outputsMetadata": {
     "0": {
      "height": 38,
      "type": "stream"
     }
    }
   },
   "outputs": [
    {
     "name": "stdout",
     "output_type": "stream",
     "text": [
      "The total number of missing cities represented by '--' is 73\n"
     ]
    }
   ],
   "source": [
    "# Use this cell to write your code for Task 1\n",
    "# import libraries\n",
    "import pandas as pd\n",
    "import numpy as np\n",
    "from sklearn.linear_model import LinearRegression\n",
    "from sklearn.preprocessing import OneHotEncoder\n",
    "from sklearn.compose import ColumnTransformer\n",
    "from sklearn.pipeline import Pipeline\n",
    "from sklearn.impute import SimpleImputer\n",
    "\n",
    "# Load the dataset\n",
    "df = pd.read_csv(\"house_sales.csv\")\n",
    "df.head()\n",
    "\n",
    "# Identify and replace missing values with 'Unknown'\n",
    "missing_city = (df['city'] == '--').sum()\n",
    "print(f\"The total number of missing cities represented by '--' is {missing_city}\")"
   ]
  },
  {
   "cell_type": "markdown",
   "id": "5045c039-b353-46ba-87b9-af63aaa4abf3",
   "metadata": {},
   "source": [
    "# Task 2 \n",
    "\n",
    "Before you fit any models, you will need to make sure the data is clean. \n",
    "\n",
    "The table below shows what the data should look like. \n",
    "\n",
    "Create a cleaned version of the dataframe. \n",
    "\n",
    " - You should start with the data in the file \"house_sales.csv\". \n",
    "\n",
    " - Your output should be a dataframe named `clean_data`. \n",
    "\n",
    " - All column names and values should match the table below.\n",
    "\n",
    "\n",
    "| Column Name | Criteria                                                |\n",
    "|-------------|---------------------------------------------------------|\n",
    "| house_id    | Nominal. </br> Unique identifier for houses. </br>Missing values not possible. |\n",
    "| city        | Nominal. </br>The city in which the house is located. One of 'Silvertown', 'Riverford', 'Teasdale' and 'Poppleton' </br>Replace missing values with \"Unknown\". |\n",
    "| sale_price  | Discrete. </br>The sale price of the house in whole dollars. Values can be any positive number greater than or equal to zero.</br>Remove missing entries. |\n",
    "| sale_date   | Discrete. </br>The date of the last sale of the house. </br>Replace missing values with 2023-01-01. |\n",
    "| months_listed  | Continuous. </br>The number of months the house was listed on the market prior to its last sale, rounded to one decimal place. </br>Replace missing values with mean number of months listed, to one decimal place. |\n",
    "| bedrooms    | Discrete. </br>The number of bedrooms in the house. Any positive values greater than or equal to zero. </br>Replace missing values with the mean number of bedrooms, rounded to the nearest integer. |\n",
    "| house_type   | Ordinal. </br>One of \"Terraced\", \"Semi-detached\", or \"Detached\". </br>Replace missing values with the most common house type. |\n",
    "| area      | Continuous. </br>The area of the house in square meters, rounded to one decimal place. </br>Replace missing values with the mean, to one decimal place. |"
   ]
  },
  {
   "cell_type": "code",
   "execution_count": 2,
   "id": "dc9c2344-a350-461c-b5db-40768b2165a5",
   "metadata": {
    "executionCancelledAt": null,
    "executionTime": 53,
    "lastExecutedAt": 1751249052527,
    "lastExecutedByKernel": "f2d55cbb-fd36-4d08-a675-835f18c9e923",
    "lastScheduledRunId": null,
    "lastSuccessfullyExecutedCode": "# Use this cell to write your code for Task 2\n\n# Replacing the missing values '--' in the city with 'Unknown'\ndf['city'] = df['city'].replace('--', 'Unknown')\n\n# Dropping missing values in sale_price\ndf = df.dropna(subset=['sale_price'])\n\n# Replacing missing values in sale_date with 2023-01-01.\ndf['sale_date'] = pd.to_datetime(df['sale_date'].fillna('2023-01-01'))\n\n# Replacing missing values with the average number of months listed, to one decimal place \nmean_months = round(df['months_listed'].mean(), 1)\ndf['months_listed'] = df['months_listed'].fillna(mean_months) \n\n# Replacing missing values with the mean number of bedrooms, rounded to the nearest integer\nmean_bedrooms = round(df['bedrooms'].mean())\ndf['bedrooms'] = df['bedrooms'].fillna(mean_bedrooms)\n\n# Standardizing the values and then replacing missing values with the most common house type\ndf['house_type'] = df['house_type'].replace({\n    'Det.': 'Detached',\n    'Semi': 'Semi-detached',\n    'Terr.': 'Terraced'\n})\nfrequent_type = df['house_type'].mode()[0]\ndf['house_type'] = df['house_type'].fillna(frequent_type)\n\n# Stripping off the \"sq.m\", then converting to float data type and finally Replacing missing values with the mean, to one decimal place\ndf['area'] = df['area'].astype(str).str.replace(' sq.m.', '', regex=False).astype(float)\n\nmean_area = round(df['area'].mean(), 1)\ndf['area'] = df['area'].fillna(mean_area)\n\n# Assigning the final dataframe a name 'clean_data'\nclean_data = df\n",
    "outputsMetadata": {
     "0": {
      "height": 50,
      "tableState": {
       "customFilter": {
        "const": {
         "type": "boolean",
         "valid": true,
         "value": true
        },
        "id": "45876ccb-e63c-4ef1-944a-5e1b8abc4309",
        "nodeType": "const"
       }
      },
      "type": "dataFrame"
     }
    }
   },
   "outputs": [
    {
     "data": {
      "text/html": [
       "<div>\n",
       "<style scoped>\n",
       "    .dataframe tbody tr th:only-of-type {\n",
       "        vertical-align: middle;\n",
       "    }\n",
       "\n",
       "    .dataframe tbody tr th {\n",
       "        vertical-align: top;\n",
       "    }\n",
       "\n",
       "    .dataframe thead th {\n",
       "        text-align: right;\n",
       "    }\n",
       "</style>\n",
       "<table border=\"1\" class=\"dataframe\">\n",
       "  <thead>\n",
       "    <tr style=\"text-align: right;\">\n",
       "      <th></th>\n",
       "      <th>house_id</th>\n",
       "      <th>city</th>\n",
       "      <th>sale_price</th>\n",
       "      <th>sale_date</th>\n",
       "      <th>months_listed</th>\n",
       "      <th>bedrooms</th>\n",
       "      <th>house_type</th>\n",
       "      <th>area</th>\n",
       "    </tr>\n",
       "  </thead>\n",
       "  <tbody>\n",
       "    <tr>\n",
       "      <th>0</th>\n",
       "      <td>1217792</td>\n",
       "      <td>Silvertown</td>\n",
       "      <td>55943</td>\n",
       "      <td>2021-09-12</td>\n",
       "      <td>5.4</td>\n",
       "      <td>2</td>\n",
       "      <td>Semi-detached</td>\n",
       "      <td>107.8</td>\n",
       "    </tr>\n",
       "    <tr>\n",
       "      <th>1</th>\n",
       "      <td>1900913</td>\n",
       "      <td>Silvertown</td>\n",
       "      <td>384677</td>\n",
       "      <td>2021-01-17</td>\n",
       "      <td>6.3</td>\n",
       "      <td>5</td>\n",
       "      <td>Detached</td>\n",
       "      <td>498.8</td>\n",
       "    </tr>\n",
       "    <tr>\n",
       "      <th>2</th>\n",
       "      <td>1174927</td>\n",
       "      <td>Riverford</td>\n",
       "      <td>281707</td>\n",
       "      <td>2021-11-10</td>\n",
       "      <td>6.9</td>\n",
       "      <td>6</td>\n",
       "      <td>Detached</td>\n",
       "      <td>542.5</td>\n",
       "    </tr>\n",
       "    <tr>\n",
       "      <th>3</th>\n",
       "      <td>1773666</td>\n",
       "      <td>Silvertown</td>\n",
       "      <td>373251</td>\n",
       "      <td>2020-04-13</td>\n",
       "      <td>6.1</td>\n",
       "      <td>6</td>\n",
       "      <td>Detached</td>\n",
       "      <td>528.4</td>\n",
       "    </tr>\n",
       "    <tr>\n",
       "      <th>4</th>\n",
       "      <td>1258487</td>\n",
       "      <td>Silvertown</td>\n",
       "      <td>328885</td>\n",
       "      <td>2020-09-24</td>\n",
       "      <td>8.7</td>\n",
       "      <td>5</td>\n",
       "      <td>Detached</td>\n",
       "      <td>477.1</td>\n",
       "    </tr>\n",
       "  </tbody>\n",
       "</table>\n",
       "</div>"
      ],
      "text/plain": [
       "   house_id        city  sale_price  sale_date  months_listed  bedrooms  \\\n",
       "0   1217792  Silvertown       55943 2021-09-12            5.4         2   \n",
       "1   1900913  Silvertown      384677 2021-01-17            6.3         5   \n",
       "2   1174927   Riverford      281707 2021-11-10            6.9         6   \n",
       "3   1773666  Silvertown      373251 2020-04-13            6.1         6   \n",
       "4   1258487  Silvertown      328885 2020-09-24            8.7         5   \n",
       "\n",
       "      house_type   area  \n",
       "0  Semi-detached  107.8  \n",
       "1       Detached  498.8  \n",
       "2       Detached  542.5  \n",
       "3       Detached  528.4  \n",
       "4       Detached  477.1  "
      ]
     },
     "execution_count": 2,
     "metadata": {},
     "output_type": "execute_result"
    }
   ],
   "source": [
    "# Use this cell to write your code for Task 2\n",
    "\n",
    "# Replacing the missing values '--' in the city with 'Unknown'\n",
    "df['city'] = df['city'].replace('--', 'Unknown')\n",
    "\n",
    "# Dropping missing values in sale_price\n",
    "df = df.dropna(subset=['sale_price'])\n",
    "\n",
    "# Replacing missing values in sale_date with 2023-01-01.\n",
    "df['sale_date'] = pd.to_datetime(df['sale_date'].fillna('2023-01-01'))\n",
    "\n",
    "# Replacing missing values with the average number of months listed, to one decimal place \n",
    "mean_months = round(df['months_listed'].mean(), 1)\n",
    "df['months_listed'] = df['months_listed'].fillna(mean_months) \n",
    "\n",
    "# Replacing missing values with the mean number of bedrooms, rounded to the nearest integer\n",
    "mean_bedrooms = round(df['bedrooms'].mean())\n",
    "df['bedrooms'] = df['bedrooms'].fillna(mean_bedrooms)\n",
    "\n",
    "# Standardizing the values and then replacing missing values with the most common house type\n",
    "df['house_type'] = df['house_type'].replace({\n",
    "    'Det.': 'Detached',\n",
    "    'Semi': 'Semi-detached',\n",
    "    'Terr.': 'Terraced'\n",
    "})\n",
    "frequent_type = df['house_type'].mode()[0]\n",
    "df['house_type'] = df['house_type'].fillna(frequent_type)\n",
    "\n",
    "# Stripping off the \"sq.m\", then converting to float data type and finally Replacing missing values with the mean, to one decimal place\n",
    "df['area'] = df['area'].astype(str).str.replace(' sq.m.', '', regex=False).astype(float)\n",
    "\n",
    "mean_area = round(df['area'].mean(), 1)\n",
    "df['area'] = df['area'].fillna(mean_area)\n",
    "\n",
    "# Assigning the final dataframe a name 'clean_data'\n",
    "clean_data = df\n",
    "clean_data.head()"
   ]
  },
  {
   "cell_type": "markdown",
   "id": "ff3c2889-66f3-4a6b-acac-2b12626e3244",
   "metadata": {},
   "source": [
    "# Task 3 \n",
    "\n",
    "The team at RealAgents have told you that they have always believed that the number of bedrooms is the biggest driver of house price. \n",
    "\n",
    "Producing a table showing the difference in the average sale price by number of bedrooms along with the variance to investigate this question for the team.\n",
    "\n",
    " - You should start with the data in the file 'house_sales.csv'.\n",
    "\n",
    " - Your output should be a data frame named `price_by_rooms`. \n",
    "\n",
    " - It should include the three columns `bedrooms`, `avg_price`, `var_price`. \n",
    "\n",
    " - Your answers should be rounded to 1 decimal place.   "
   ]
  },
  {
   "cell_type": "code",
   "execution_count": 3,
   "id": "ea512a1c-e512-4f2e-8d78-323e51d01407",
   "metadata": {
    "executionCancelledAt": null,
    "executionTime": null,
    "lastExecutedAt": null,
    "lastExecutedByKernel": null,
    "lastScheduledRunId": null,
    "lastSuccessfullyExecutedCode": null,
    "outputsMetadata": {
     "0": {
      "height": 249,
      "tableState": {
       "customFilter": {
        "const": {
         "type": "boolean",
         "valid": true,
         "value": true
        },
        "id": "45876ccb-e63c-4ef1-944a-5e1b8abc4309",
        "nodeType": "const"
       }
      },
      "type": "dataFrame"
     }
    }
   },
   "outputs": [
    {
     "data": {
      "text/html": [
       "<div>\n",
       "<style scoped>\n",
       "    .dataframe tbody tr th:only-of-type {\n",
       "        vertical-align: middle;\n",
       "    }\n",
       "\n",
       "    .dataframe tbody tr th {\n",
       "        vertical-align: top;\n",
       "    }\n",
       "\n",
       "    .dataframe thead th {\n",
       "        text-align: right;\n",
       "    }\n",
       "</style>\n",
       "<table border=\"1\" class=\"dataframe\">\n",
       "  <thead>\n",
       "    <tr style=\"text-align: right;\">\n",
       "      <th></th>\n",
       "      <th>bedrooms</th>\n",
       "      <th>avg_price</th>\n",
       "      <th>var_price</th>\n",
       "    </tr>\n",
       "  </thead>\n",
       "  <tbody>\n",
       "    <tr>\n",
       "      <th>0</th>\n",
       "      <td>2</td>\n",
       "      <td>67076.4</td>\n",
       "      <td>5.652896e+08</td>\n",
       "    </tr>\n",
       "    <tr>\n",
       "      <th>1</th>\n",
       "      <td>3</td>\n",
       "      <td>154665.1</td>\n",
       "      <td>2.378289e+09</td>\n",
       "    </tr>\n",
       "    <tr>\n",
       "      <th>2</th>\n",
       "      <td>4</td>\n",
       "      <td>234704.6</td>\n",
       "      <td>1.725211e+09</td>\n",
       "    </tr>\n",
       "    <tr>\n",
       "      <th>3</th>\n",
       "      <td>5</td>\n",
       "      <td>301515.9</td>\n",
       "      <td>2.484328e+09</td>\n",
       "    </tr>\n",
       "    <tr>\n",
       "      <th>4</th>\n",
       "      <td>6</td>\n",
       "      <td>375741.3</td>\n",
       "      <td>3.924432e+09</td>\n",
       "    </tr>\n",
       "  </tbody>\n",
       "</table>\n",
       "</div>"
      ],
      "text/plain": [
       "   bedrooms  avg_price     var_price\n",
       "0         2    67076.4  5.652896e+08\n",
       "1         3   154665.1  2.378289e+09\n",
       "2         4   234704.6  1.725211e+09\n",
       "3         5   301515.9  2.484328e+09\n",
       "4         6   375741.3  3.924432e+09"
      ]
     },
     "execution_count": 3,
     "metadata": {},
     "output_type": "execute_result"
    }
   ],
   "source": [
    "# Use this cell to write your code for Task 3\n",
    "# Grouping by bedrooms and calculating mean and variance\n",
    "price_by_rooms = df.groupby('bedrooms')['sale_price'].agg(\n",
    "    avg_price=lambda x: round(x.mean(), 1),\n",
    "    var_price=lambda x: round(x.var(), 1)\n",
    ").reset_index()\n",
    "price_by_rooms"
   ]
  },
  {
   "cell_type": "markdown",
   "id": "ac7038d1-7a8f-4d97-aef1-36f3f1227374",
   "metadata": {},
   "source": [
    "# Task 4\n",
    "\n",
    "Fit a baseline model to predict the sale price of a house.\n",
    "\n",
    " 1. Fit your model using the data contained in “train.csv” </br></br>\n",
    "\n",
    " 2. Use “validation.csv” to predict new values based on your model. You must return a dataframe named `base_result`, that includes `house_id` and `price`. The price column must be your predicted values."
   ]
  },
  {
   "cell_type": "code",
   "execution_count": 4,
   "id": "96496c59-fdd4-4683-9884-551ad93b788f",
   "metadata": {
    "executionCancelledAt": null,
    "executionTime": null,
    "lastExecutedAt": null,
    "lastExecutedByKernel": null,
    "lastScheduledRunId": null,
    "lastSuccessfullyExecutedCode": null,
    "outputsMetadata": {
     "0": {
      "height": 86,
      "tableState": {
       "customFilter": {
        "const": {
         "type": "boolean",
         "valid": true,
         "value": true
        },
        "id": "45876ccb-e63c-4ef1-944a-5e1b8abc4309",
        "nodeType": "const"
       }
      },
      "type": "dataFrame"
     }
    }
   },
   "outputs": [
    {
     "data": {
      "text/html": [
       "<div>\n",
       "<style scoped>\n",
       "    .dataframe tbody tr th:only-of-type {\n",
       "        vertical-align: middle;\n",
       "    }\n",
       "\n",
       "    .dataframe tbody tr th {\n",
       "        vertical-align: top;\n",
       "    }\n",
       "\n",
       "    .dataframe thead th {\n",
       "        text-align: right;\n",
       "    }\n",
       "</style>\n",
       "<table border=\"1\" class=\"dataframe\">\n",
       "  <thead>\n",
       "    <tr style=\"text-align: right;\">\n",
       "      <th></th>\n",
       "      <th>house_id</th>\n",
       "      <th>price</th>\n",
       "    </tr>\n",
       "  </thead>\n",
       "  <tbody>\n",
       "    <tr>\n",
       "      <th>0</th>\n",
       "      <td>1331375</td>\n",
       "      <td>225844.7</td>\n",
       "    </tr>\n",
       "    <tr>\n",
       "      <th>1</th>\n",
       "      <td>1630115</td>\n",
       "      <td>225844.7</td>\n",
       "    </tr>\n",
       "    <tr>\n",
       "      <th>2</th>\n",
       "      <td>1645745</td>\n",
       "      <td>225844.7</td>\n",
       "    </tr>\n",
       "    <tr>\n",
       "      <th>3</th>\n",
       "      <td>1336775</td>\n",
       "      <td>225844.7</td>\n",
       "    </tr>\n",
       "    <tr>\n",
       "      <th>4</th>\n",
       "      <td>1888274</td>\n",
       "      <td>225844.7</td>\n",
       "    </tr>\n",
       "  </tbody>\n",
       "</table>\n",
       "</div>"
      ],
      "text/plain": [
       "   house_id     price\n",
       "0   1331375  225844.7\n",
       "1   1630115  225844.7\n",
       "2   1645745  225844.7\n",
       "3   1336775  225844.7\n",
       "4   1888274  225844.7"
      ]
     },
     "execution_count": 4,
     "metadata": {},
     "output_type": "execute_result"
    }
   ],
   "source": [
    "# Use this cell to write your code for Task 4\n",
    "# Loading the \"train.csv\" and \"validation.csv\"\n",
    "train_df = pd.read_csv(\"train.csv\")\n",
    "val_df = pd.read_csv(\"validation.csv\")\n",
    "\n",
    "# Computing the mean baseline sale price \n",
    "baseline_mean_price = train_df['sale_price'].mean()\n",
    "\n",
    "# Predicting the mean sale price for the validation set\n",
    "base_result = pd.DataFrame({\n",
    "    'house_id': val_df['house_id'],\n",
    "    'price': round(baseline_mean_price, 1)  # Rounded to 1 decimal place (optional)\n",
    "})\n",
    "base_result.head()"
   ]
  },
  {
   "cell_type": "markdown",
   "id": "7c674c01-d6de-488d-b2e0-bc3bbf87def6",
   "metadata": {},
   "source": [
    "# Task 5\n",
    "\n",
    "Fit a comparison model to predict the sale price of a house.\n",
    "\n",
    " 1. Fit your model using the data contained in “train.csv” </br></br>\n",
    "\n",
    " 2. Use “validation.csv” to predict new values based on your model. You must return a dataframe named `compare_result`, that includes `house_id` and `price`. The price column must be your predicted values."
   ]
  },
  {
   "cell_type": "code",
   "execution_count": 5,
   "id": "538ffb3d-4008-49b6-9876-7831e025f5a4",
   "metadata": {
    "executionCancelledAt": null,
    "executionTime": null,
    "lastExecutedAt": null,
    "lastExecutedByKernel": null,
    "lastScheduledRunId": null,
    "lastSuccessfullyExecutedCode": null,
    "outputsMetadata": {
     "0": {
      "height": 249,
      "tableState": {
       "customFilter": {
        "const": {
         "type": "boolean",
         "valid": true,
         "value": true
        },
        "id": "45876ccb-e63c-4ef1-944a-5e1b8abc4309",
        "nodeType": "const"
       }
      },
      "type": "dataFrame"
     }
    }
   },
   "outputs": [
    {
     "data": {
      "text/html": [
       "<div>\n",
       "<style scoped>\n",
       "    .dataframe tbody tr th:only-of-type {\n",
       "        vertical-align: middle;\n",
       "    }\n",
       "\n",
       "    .dataframe tbody tr th {\n",
       "        vertical-align: top;\n",
       "    }\n",
       "\n",
       "    .dataframe thead th {\n",
       "        text-align: right;\n",
       "    }\n",
       "</style>\n",
       "<table border=\"1\" class=\"dataframe\">\n",
       "  <thead>\n",
       "    <tr style=\"text-align: right;\">\n",
       "      <th></th>\n",
       "      <th>house_id</th>\n",
       "      <th>price</th>\n",
       "    </tr>\n",
       "  </thead>\n",
       "  <tbody>\n",
       "    <tr>\n",
       "      <th>0</th>\n",
       "      <td>1331375</td>\n",
       "      <td>121527.8</td>\n",
       "    </tr>\n",
       "    <tr>\n",
       "      <th>1</th>\n",
       "      <td>1630115</td>\n",
       "      <td>304386.6</td>\n",
       "    </tr>\n",
       "    <tr>\n",
       "      <th>2</th>\n",
       "      <td>1645745</td>\n",
       "      <td>384760.1</td>\n",
       "    </tr>\n",
       "    <tr>\n",
       "      <th>3</th>\n",
       "      <td>1336775</td>\n",
       "      <td>123976.3</td>\n",
       "    </tr>\n",
       "    <tr>\n",
       "      <th>4</th>\n",
       "      <td>1888274</td>\n",
       "      <td>271186.2</td>\n",
       "    </tr>\n",
       "  </tbody>\n",
       "</table>\n",
       "</div>"
      ],
      "text/plain": [
       "   house_id     price\n",
       "0   1331375  121527.8\n",
       "1   1630115  304386.6\n",
       "2   1645745  384760.1\n",
       "3   1336775  123976.3\n",
       "4   1888274  271186.2"
      ]
     },
     "execution_count": 5,
     "metadata": {},
     "output_type": "execute_result"
    }
   ],
   "source": [
    "# Use this cell to write your code for Task 5\n",
    "# Loading the \"train.csv\" and \"validation.csv\"\n",
    "train_df = pd.read_csv(\"train.csv\")\n",
    "val_df = pd.read_csv(\"validation.csv\")\n",
    "\n",
    "# Defining features and target\n",
    "features = ['city', 'months_listed', 'bedrooms', 'house_type', 'area'] \n",
    "target = 'sale_price'\n",
    "\n",
    "# Preprocessing features\n",
    "num_features = ['months_listed', 'area', 'bedrooms']\n",
    "cat_features = ['city', 'house_type']\n",
    "\n",
    "numeric_transformer = SimpleImputer(strategy='mean')\n",
    "\n",
    "categorical_transformer = Pipeline(steps=[\n",
    "    ('imputer', SimpleImputer(strategy='most_frequent')),\n",
    "    ('onehot', OneHotEncoder(handle_unknown='ignore'))\n",
    "])\n",
    "\n",
    "preprocessor = ColumnTransformer(\n",
    "    transformers=[\n",
    "        ('num', numeric_transformer, num_features),\n",
    "        ('cat', categorical_transformer, cat_features)\n",
    "    ])\n",
    "\n",
    "# Building a pipeline with a model\n",
    "model = Pipeline(steps=[\n",
    "    ('preprocessor', preprocessor),\n",
    "    ('regressor', LinearRegression())\n",
    "])\n",
    "\n",
    "# Fitting the model\n",
    "model.fit(train_df[features], train_df[target])\n",
    "\n",
    "# Predicting on validation data\n",
    "predictions = model.predict(val_df[features])\n",
    "\n",
    "# Creating output DataFrame\n",
    "compare_result = pd.DataFrame({\n",
    "    'house_id': val_df['house_id'],\n",
    "    'price': predictions\n",
    "})\n",
    "\n",
    "# Optional: round price\n",
    "compare_result['price'] = compare_result['price'].round(1)\n",
    "\n",
    "# Show preview\n",
    "compare_result.head()\n",
    "\n"
   ]
  },
  {
   "cell_type": "code",
   "execution_count": 6,
   "id": "21a27c57",
   "metadata": {},
   "outputs": [
    {
     "name": "stdout",
     "output_type": "stream",
     "text": [
      "C:\\Users\\MAYKISH\\house_sales_1\n"
     ]
    }
   ],
   "source": [
    "import os\n",
    "print(os.getcwd())\n"
   ]
  },
  {
   "cell_type": "code",
   "execution_count": 9,
   "id": "2322247d",
   "metadata": {},
   "outputs": [
    {
     "name": "stdout",
     "output_type": "stream",
     "text": [
      "C:\\Users\\MAYKISH\\house_sales_1\\house_sales.ipynb\n"
     ]
    }
   ],
   "source": [
    "print(os.path.abspath(\"house_sales.ipynb\"))\n"
   ]
  },
  {
   "cell_type": "code",
   "execution_count": null,
   "id": "634925a8",
   "metadata": {},
   "outputs": [],
   "source": []
  }
 ],
 "metadata": {
  "editor": "DataCamp Workspace",
  "kernelspec": {
   "display_name": "Python 3 (ipykernel)",
   "language": "python",
   "name": "python3"
  },
  "language_info": {
   "codemirror_mode": {
    "name": "ipython",
    "version": 3
   },
   "file_extension": ".py",
   "mimetype": "text/x-python",
   "name": "python",
   "nbconvert_exporter": "python",
   "pygments_lexer": "ipython3",
   "version": "3.11.5"
  }
 },
 "nbformat": 4,
 "nbformat_minor": 5
}
